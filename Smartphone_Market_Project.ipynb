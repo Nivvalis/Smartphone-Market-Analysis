{
 "cells": [
  {
   "cell_type": "markdown",
   "id": "a8927bb9",
   "metadata": {},
   "source": [
    "\n",
    "# 📱 Smartphone Market Analysis\n",
    "\n",
    "In this project, we analyze a dataset of smartphones and their specifications to uncover insights about pricing, features, and market trends.\n",
    "\n",
    "**Goals:**\n",
    "- Clean and prepare the dataset.\n",
    "- Explore feature distributions and correlations.\n",
    "- Visualize pricing by brand and specs.\n",
    "- Provide recommendations and insights.\n",
    "\n",
    "---\n"
   ]
  },
  {
   "cell_type": "code",
   "execution_count": null,
   "id": "d637622a",
   "metadata": {},
   "outputs": [],
   "source": [
    "\n",
    "import pandas as pd\n",
    "import matplotlib.pyplot as plt\n",
    "import seaborn as sns\n",
    "\n",
    "# Load data\n",
    "df = pd.read_csv('Smartphones_cleaned_dataset.csv')\n",
    "\n",
    "# Fill missing values\n",
    "df['rating'] = df['rating'].fillna(df['rating'].median())\n",
    "df['processor_brand'] = df['processor_brand'].fillna(df['processor_brand'].mode()[0])\n",
    "df['num_cores'] = df['num_cores'].fillna(df['num_cores'].median())\n",
    "df['processor_speed'] = df['processor_speed'].fillna(df['processor_speed'].median())\n",
    "df['battery_capacity'] = df['battery_capacity'].fillna(df['battery_capacity'].median())\n",
    "df['num_front_cameras'] = df['num_front_cameras'].fillna(df['num_front_cameras'].median())\n",
    "df['os'] = df['os'].fillna(df['os'].mode()[0])\n",
    "df['primary_camera_front'] = df['primary_camera_front'].fillna(df['primary_camera_front'].median())\n",
    "df['extended_upto'] = df['extended_upto'].fillna(0)\n",
    "df['fast_charging'] = df['fast_charging'].fillna(0)\n",
    "\n",
    "df.info()\n",
    "df.head()\n"
   ]
  },
  {
   "cell_type": "markdown",
   "id": "5cadbb34",
   "metadata": {},
   "source": [
    "\n",
    "## 📊 Exploratory Data Analysis (EDA)\n",
    "\n",
    "Let's check price distribution, brand-wise pricing, and correlations with specs.\n"
   ]
  },
  {
   "cell_type": "code",
   "execution_count": null,
   "id": "778e7985",
   "metadata": {},
   "outputs": [],
   "source": [
    "\n",
    "# Price distribution\n",
    "plt.figure(figsize=(10,6))\n",
    "sns.histplot(df['price'], bins=30, kde=True)\n",
    "plt.title('Price Distribution')\n",
    "plt.xlabel('Price (INR)')\n",
    "plt.show()\n",
    "\n",
    "# Price by brand\n",
    "plt.figure(figsize=(14,6))\n",
    "brand_avg = df.groupby('brand_name')['price'].mean().sort_values(ascending=False)\n",
    "sns.barplot(x=brand_avg.index, y=brand_avg.values)\n",
    "plt.title('Average Price by Brand')\n",
    "plt.xlabel('Brand')\n",
    "plt.ylabel('Average Price (INR)')\n",
    "plt.xticks(rotation=90)\n",
    "plt.show()\n"
   ]
  },
  {
   "cell_type": "code",
   "execution_count": null,
   "id": "e83b08de",
   "metadata": {},
   "outputs": [],
   "source": [
    "\n",
    "# Correlation with price\n",
    "corr = df[['price', 'rating', 'battery_capacity', 'ram_capacity', 'internal_memory',\n",
    "           'screen_size', 'refresh_rate', 'primary_camera_rear', 'primary_camera_front']].corr()\n",
    "\n",
    "plt.figure(figsize=(10,8))\n",
    "sns.heatmap(corr, annot=True, cmap='coolwarm')\n",
    "plt.title('Correlation Heatmap')\n",
    "plt.show()\n"
   ]
  },
  {
   "cell_type": "code",
   "execution_count": null,
   "id": "2fb62cb5",
   "metadata": {},
   "outputs": [],
   "source": [
    "\n",
    "plt.figure(figsize=(10,6))\n",
    "sns.scatterplot(x='ram_capacity', y='price', data=df, hue='brand_name', legend=False)\n",
    "plt.title('Price vs. RAM Capacity')\n",
    "plt.xlabel('RAM (GB)')\n",
    "plt.ylabel('Price (INR)')\n",
    "plt.show()\n"
   ]
  },
  {
   "cell_type": "markdown",
   "id": "2825c8e9",
   "metadata": {},
   "source": [
    "\n",
    "## ✅ Summary & Recommendations\n",
    "\n",
    "- Some brands focus on premium pricing (e.g., Vertu, Apple) while others target budget segments.\n",
    "- RAM, internal memory, and camera specs show strong correlation with price.\n",
    "- Battery capacity and refresh rate have moderate impact.\n",
    "- Brands could use this data to identify gaps in price segments or to optimize specs for target markets.\n",
    "\n",
    "This notebook demonstrates an end-to-end EDA for smartphone market analysis.\n",
    "\n",
    "---\n"
   ]
  }
 ],
 "metadata": {},
 "nbformat": 4,
 "nbformat_minor": 5
}
